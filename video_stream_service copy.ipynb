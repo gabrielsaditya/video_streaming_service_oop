{
 "cells": [
  {
   "cell_type": "code",
   "execution_count": 34,
   "id": "7a011f80",
   "metadata": {},
   "outputs": [
    {
     "name": "stdout",
     "output_type": "stream",
     "text": [
      "Requirement already satisfied: tabulate in c:\\users\\gabriel saditya\\onedrive\\desktop\\pacmann course\\project\\pacflix_oop_concept\\video_streaming_service\\venv\\lib\\site-packages (0.9.0)\n",
      "Note: you may need to restart the kernel to use updated packages.\n"
     ]
    }
   ],
   "source": [
    "#import module tabulate \n",
    "from tabulate import tabulate\n",
    "%pip install tabulate"
   ]
  },
  {
   "cell_type": "code",
   "execution_count": 35,
   "id": "183c3ad4",
   "metadata": {},
   "outputs": [],
   "source": [
    "#Data data -> anggap saja ini database\n",
    "data_user = {\n",
    "    \"Shandy\": [\"Basic Plan\", 12, \"shandy-2134\"],\n",
    "    \"Cahya\": [\"Standard Plan\", 24, \"cahya-abcd\"],\n",
    "    \"Ana\": [\"Premium Plan\", 5, \"ana-2f9g\"],\n",
    "    \"Bagus\": [\"Basic Plan\", 11, \"bagus-9f92\"]\n",
    "}\n",
    "\n",
    "\n",
    "plan_prices = {\n",
    "    \"Basic Plan\": 120_000,\n",
    "    \"Standard Plan\": 160_000,\n",
    "    \"Premium Plan\": 200_000\n",
    "}"
   ]
  },
  {
   "cell_type": "code",
   "execution_count": 36,
   "id": "1744d390",
   "metadata": {},
   "outputs": [],
   "source": [
    "#buat class untuk NewUser\n",
    "class NewUser:\n",
    "\n",
    "    def __init__(self, username):\n",
    "        self.username = username\n",
    "\n",
    "    def check_benefit(self):\n",
    "        \"\"\"\n",
    "        1. Fungsi untuk cek benefit dari masing-masing plan yang ada di pacflix\n",
    "        2. Takes no argument\n",
    "        3. Return value adalah data tabular dari data benefit plan pacflix\n",
    "        \"\"\"\n",
    "\n",
    "        data = [\n",
    "            ['True', 'True', 'True', 'Bisa Stream'],\n",
    "            ['True', 'True', 'True', 'Bisa Download'],\n",
    "            ['True', 'True', 'True', 'Kualitas SD'],\n",
    "            ['False', 'True', 'True', 'Kualitas HD'],\n",
    "            ['False', 'False', 'True', 'Kualitas UHD'],\n",
    "            [1, 2, 3, 'Number of Devices'],\n",
    "            ['3rd party Movie only  Basic Plan Content', 'Sports  Basic Plan', 'Standard Plan', 'PacFlix Original Series', 'Jenis Konten'],\n",
    "            [120_000, 160_000, 200_000, 'Harga']\n",
    "                ]\n",
    "        \n",
    "        table_plan = tabulate(\n",
    "            data,\n",
    "             headers=['Basic Plan', 'Standard Plan', 'Premium Plan', 'Services'],\n",
    "              tablefmt='grid' )\n",
    "        \n",
    "        return table_plan\n",
    "    \n",
    "    def pick_plan(self, new_plan, referral_code):\n",
    "\n",
    "        for name, isian in data_user.items():\n",
    "            plan, duration, referral = isian\n",
    "\n",
    "            if referral_code == referral:\n",
    "                print(f\"Ditemukan referral code dari pengguna dengan nama: {name}\")\n",
    "                final_price = plan_prices[new_plan] - (plan_prices[new_plan] * 0.4)    \n",
    "                print(f\"Pengguna dengan nama: {self.username} mendapat diskon, dan wajib membayar sejumlah: Rp{final_price}\")\n",
    "                return final_price \n",
    "            \n",
    "        raise Exception(\"Referral code doesn't exist!\")\n",
    "\n",
    "\n"
   ]
  },
  {
   "cell_type": "code",
   "execution_count": 37,
   "id": "558d8d34",
   "metadata": {},
   "outputs": [],
   "source": [
    "\n",
    "#Class User inherit dari Class NewUser\n",
    "class User(NewUser):\n",
    "    def __init__(self, username, current_plan, duration_plan):\n",
    "        super().__init__(username)\n",
    "        self.current_plan = current_plan\n",
    "        self.duration_plan = duration_plan\n",
    "    \n",
    "    def check_plan(self, username):\n",
    "        super().__init__(username) \n",
    "        data = [self.current_plan, self.duration_plan]\n",
    "        table = tabulate(data, headers=['Current Plan', 'Duration Plan'], tablefmt='grid')\n",
    "\n",
    "    def upgrade_plan(self):\n",
    "        pass \n",
    "\n"
   ]
  },
  {
   "cell_type": "code",
   "execution_count": 38,
   "id": "2b203b1a",
   "metadata": {},
   "outputs": [
    {
     "name": "stdout",
     "output_type": "stream",
     "text": [
      "+------------------------------------------+--------------------+----------------+-------------------------+\n",
      "| Basic Plan                               | Standard Plan      | Premium Plan   | Services                |\n",
      "+==========================================+====================+================+=========================+\n",
      "| True                                     | True               | True           | Bisa Stream             |\n",
      "+------------------------------------------+--------------------+----------------+-------------------------+\n",
      "| True                                     | True               | True           | Bisa Download           |\n",
      "+------------------------------------------+--------------------+----------------+-------------------------+\n",
      "| True                                     | True               | True           | Kualitas SD             |\n",
      "+------------------------------------------+--------------------+----------------+-------------------------+\n",
      "| False                                    | True               | True           | Kualitas HD             |\n",
      "+------------------------------------------+--------------------+----------------+-------------------------+\n",
      "| False                                    | False              | True           | Kualitas UHD            |\n",
      "+------------------------------------------+--------------------+----------------+-------------------------+\n",
      "| 1                                        | 2                  | 3              | Number of Devices       |\n",
      "+------------------------------------------+--------------------+----------------+-------------------------+\n",
      "| 3rd party Movie only  Basic Plan Content | Sports  Basic Plan | Standard Plan  | PacFlix Original Series |\n",
      "+------------------------------------------+--------------------+----------------+-------------------------+\n",
      "| 120000                                   | 160000             | 200000         | Harga                   |\n",
      "+------------------------------------------+--------------------+----------------+-------------------------+\n",
      "Ditemukan referral code dari pengguna dengan nama: Cahya\n",
      "Pengguna dengan nama: Gabriel mendapat diskon, dan wajib membayar sejumlah: Rp72000.0\n"
     ]
    },
    {
     "ename": "TypeError",
     "evalue": "'int' object is not iterable",
     "output_type": "error",
     "traceback": [
      "\u001b[31m---------------------------------------------------------------------------\u001b[39m",
      "\u001b[31mTypeError\u001b[39m                                 Traceback (most recent call last)",
      "\u001b[36mCell\u001b[39m\u001b[36m \u001b[39m\u001b[32mIn[38]\u001b[39m\u001b[32m, line 8\u001b[39m\n\u001b[32m      5\u001b[39m user_gabriel.pick_plan(\u001b[33m'\u001b[39m\u001b[33mBasic Plan\u001b[39m\u001b[33m'\u001b[39m,\u001b[33m\"\u001b[39m\u001b[33mcahya-abcd\u001b[39m\u001b[33m\"\u001b[39m)\n\u001b[32m      7\u001b[39m user_1 = User(\u001b[33m'\u001b[39m\u001b[33mSandy\u001b[39m\u001b[33m'\u001b[39m, \u001b[33m'\u001b[39m\u001b[33mBasic Plan\u001b[39m\u001b[33m'\u001b[39m, \u001b[32m12\u001b[39m)\n\u001b[32m----> \u001b[39m\u001b[32m8\u001b[39m \u001b[43muser_1\u001b[49m\u001b[43m.\u001b[49m\u001b[43mcheck_plan\u001b[49m\u001b[43m(\u001b[49m\u001b[33;43m'\u001b[39;49m\u001b[33;43mSandy\u001b[39;49m\u001b[33;43m'\u001b[39;49m\u001b[43m)\u001b[49m\n",
      "\u001b[36mCell\u001b[39m\u001b[36m \u001b[39m\u001b[32mIn[37]\u001b[39m\u001b[32m, line 11\u001b[39m, in \u001b[36mUser.check_plan\u001b[39m\u001b[34m(self, username)\u001b[39m\n\u001b[32m      9\u001b[39m \u001b[38;5;28msuper\u001b[39m().\u001b[34m__init__\u001b[39m(username) \n\u001b[32m     10\u001b[39m data = [\u001b[38;5;28mself\u001b[39m.current_plan, \u001b[38;5;28mself\u001b[39m.duration_plan]\n\u001b[32m---> \u001b[39m\u001b[32m11\u001b[39m table = \u001b[43mtabulate\u001b[49m\u001b[43m(\u001b[49m\u001b[43mdata\u001b[49m\u001b[43m,\u001b[49m\u001b[43m \u001b[49m\u001b[43mheaders\u001b[49m\u001b[43m=\u001b[49m\u001b[43m[\u001b[49m\u001b[33;43m'\u001b[39;49m\u001b[33;43mCurrent Plan\u001b[39;49m\u001b[33;43m'\u001b[39;49m\u001b[43m,\u001b[49m\u001b[43m \u001b[49m\u001b[33;43m'\u001b[39;49m\u001b[33;43mDuration Plan\u001b[39;49m\u001b[33;43m'\u001b[39;49m\u001b[43m]\u001b[49m\u001b[43m,\u001b[49m\u001b[43m \u001b[49m\u001b[43mtablefmt\u001b[49m\u001b[43m=\u001b[49m\u001b[33;43m'\u001b[39;49m\u001b[33;43mgrid\u001b[39;49m\u001b[33;43m'\u001b[39;49m\u001b[43m)\u001b[49m\n",
      "\u001b[36mFile \u001b[39m\u001b[32mc:\\Users\\Gabriel Saditya\\OneDrive\\Desktop\\Pacmann Course\\Project\\pacflix_oop_concept\\video_streaming_service\\venv\\Lib\\site-packages\\tabulate\\__init__.py:2048\u001b[39m, in \u001b[36mtabulate\u001b[39m\u001b[34m(tabular_data, headers, tablefmt, floatfmt, intfmt, numalign, stralign, missingval, showindex, disable_numparse, colalign, maxcolwidths, rowalign, maxheadercolwidths)\u001b[39m\n\u001b[32m   2045\u001b[39m \u001b[38;5;28;01mif\u001b[39;00m tabular_data \u001b[38;5;129;01mis\u001b[39;00m \u001b[38;5;28;01mNone\u001b[39;00m:\n\u001b[32m   2046\u001b[39m     tabular_data = []\n\u001b[32m-> \u001b[39m\u001b[32m2048\u001b[39m list_of_lists, headers = \u001b[43m_normalize_tabular_data\u001b[49m\u001b[43m(\u001b[49m\n\u001b[32m   2049\u001b[39m \u001b[43m    \u001b[49m\u001b[43mtabular_data\u001b[49m\u001b[43m,\u001b[49m\u001b[43m \u001b[49m\u001b[43mheaders\u001b[49m\u001b[43m,\u001b[49m\u001b[43m \u001b[49m\u001b[43mshowindex\u001b[49m\u001b[43m=\u001b[49m\u001b[43mshowindex\u001b[49m\n\u001b[32m   2050\u001b[39m \u001b[43m\u001b[49m\u001b[43m)\u001b[49m\n\u001b[32m   2051\u001b[39m list_of_lists, separating_lines = _remove_separating_lines(list_of_lists)\n\u001b[32m   2053\u001b[39m \u001b[38;5;28;01mif\u001b[39;00m maxcolwidths \u001b[38;5;129;01mis\u001b[39;00m \u001b[38;5;129;01mnot\u001b[39;00m \u001b[38;5;28;01mNone\u001b[39;00m:\n",
      "\u001b[36mFile \u001b[39m\u001b[32mc:\\Users\\Gabriel Saditya\\OneDrive\\Desktop\\Pacmann Course\\Project\\pacflix_oop_concept\\video_streaming_service\\venv\\Lib\\site-packages\\tabulate\\__init__.py:1471\u001b[39m, in \u001b[36m_normalize_tabular_data\u001b[39m\u001b[34m(tabular_data, headers, showindex)\u001b[39m\n\u001b[32m   1469\u001b[39m headers = \u001b[38;5;28mlist\u001b[39m(\u001b[38;5;28mmap\u001b[39m(\u001b[38;5;28mstr\u001b[39m, headers))\n\u001b[32m   1470\u001b[39m \u001b[38;5;66;03m#    rows = list(map(list, rows))\u001b[39;00m\n\u001b[32m-> \u001b[39m\u001b[32m1471\u001b[39m rows = \u001b[38;5;28;43mlist\u001b[39;49m\u001b[43m(\u001b[49m\u001b[38;5;28;43mmap\u001b[39;49m\u001b[43m(\u001b[49m\u001b[38;5;28;43;01mlambda\u001b[39;49;00m\u001b[43m \u001b[49m\u001b[43mr\u001b[49m\u001b[43m:\u001b[49m\u001b[43m \u001b[49m\u001b[43mr\u001b[49m\u001b[43m \u001b[49m\u001b[38;5;28;43;01mif\u001b[39;49;00m\u001b[43m \u001b[49m\u001b[43m_is_separating_line\u001b[49m\u001b[43m(\u001b[49m\u001b[43mr\u001b[49m\u001b[43m)\u001b[49m\u001b[43m \u001b[49m\u001b[38;5;28;43;01melse\u001b[39;49;00m\u001b[43m \u001b[49m\u001b[38;5;28;43mlist\u001b[39;49m\u001b[43m(\u001b[49m\u001b[43mr\u001b[49m\u001b[43m)\u001b[49m\u001b[43m,\u001b[49m\u001b[43m \u001b[49m\u001b[43mrows\u001b[49m\u001b[43m)\u001b[49m\u001b[43m)\u001b[49m\n\u001b[32m   1473\u001b[39m \u001b[38;5;66;03m# add or remove an index column\u001b[39;00m\n\u001b[32m   1474\u001b[39m showindex_is_a_str = \u001b[38;5;28mtype\u001b[39m(showindex) \u001b[38;5;129;01min\u001b[39;00m [\u001b[38;5;28mstr\u001b[39m, \u001b[38;5;28mbytes\u001b[39m]\n",
      "\u001b[36mFile \u001b[39m\u001b[32mc:\\Users\\Gabriel Saditya\\OneDrive\\Desktop\\Pacmann Course\\Project\\pacflix_oop_concept\\video_streaming_service\\venv\\Lib\\site-packages\\tabulate\\__init__.py:1471\u001b[39m, in \u001b[36m_normalize_tabular_data.<locals>.<lambda>\u001b[39m\u001b[34m(r)\u001b[39m\n\u001b[32m   1469\u001b[39m headers = \u001b[38;5;28mlist\u001b[39m(\u001b[38;5;28mmap\u001b[39m(\u001b[38;5;28mstr\u001b[39m, headers))\n\u001b[32m   1470\u001b[39m \u001b[38;5;66;03m#    rows = list(map(list, rows))\u001b[39;00m\n\u001b[32m-> \u001b[39m\u001b[32m1471\u001b[39m rows = \u001b[38;5;28mlist\u001b[39m(\u001b[38;5;28mmap\u001b[39m(\u001b[38;5;28;01mlambda\u001b[39;00m r: r \u001b[38;5;28;01mif\u001b[39;00m _is_separating_line(r) \u001b[38;5;28;01melse\u001b[39;00m \u001b[38;5;28;43mlist\u001b[39;49m\u001b[43m(\u001b[49m\u001b[43mr\u001b[49m\u001b[43m)\u001b[49m, rows))\n\u001b[32m   1473\u001b[39m \u001b[38;5;66;03m# add or remove an index column\u001b[39;00m\n\u001b[32m   1474\u001b[39m showindex_is_a_str = \u001b[38;5;28mtype\u001b[39m(showindex) \u001b[38;5;129;01min\u001b[39;00m [\u001b[38;5;28mstr\u001b[39m, \u001b[38;5;28mbytes\u001b[39m]\n",
      "\u001b[31mTypeError\u001b[39m: 'int' object is not iterable"
     ]
    }
   ],
   "source": [
    "#making instances\n",
    "user_gabriel = NewUser('Gabriel')\n",
    "#Using .check_benefit() method untuk tampilkan plan plan beserta benefit2 nya!\n",
    "print(user_gabriel.check_benefit())\n",
    "user_gabriel.pick_plan('Basic Plan',\"cahya-abcd\")\n",
    "\n",
    "user_1 = User('Sandy', 'Basic Plan', 12)\n",
    "user_1.check_plan('Sandy')\n"
   ]
  },
  {
   "cell_type": "code",
   "execution_count": null,
   "id": "1f8ab528",
   "metadata": {},
   "outputs": [],
   "source": []
  }
 ],
 "metadata": {
  "kernelspec": {
   "display_name": "venv",
   "language": "python",
   "name": "python3"
  },
  "language_info": {
   "codemirror_mode": {
    "name": "ipython",
    "version": 3
   },
   "file_extension": ".py",
   "mimetype": "text/x-python",
   "name": "python",
   "nbconvert_exporter": "python",
   "pygments_lexer": "ipython3",
   "version": "3.13.2"
  }
 },
 "nbformat": 4,
 "nbformat_minor": 5
}
